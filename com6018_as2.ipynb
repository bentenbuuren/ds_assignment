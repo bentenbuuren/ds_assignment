{
 "cells": [
  {
   "cell_type": "code",
   "execution_count": 33,
   "metadata": {},
   "outputs": [],
   "source": [
    "import numpy as np\n",
    "import joblib\n",
    "import matplotlib.pyplot as plt\n",
    "from numpy.linalg import norm\n",
    "from sklearn.preprocessing import StandardScaler\n",
    "from sklearn.decomposition import PCA\n",
    "from sklearn.svm import SVC\n",
    "from sklearn.metrics import accuracy_score\n",
    "from sklearn.pipeline import Pipeline\n",
    "from sklearn.model_selection import GridSearchCV\n",
    "from sklearn.ensemble import RandomForestClassifier\n",
    "from sklearn.neighbors import KNeighborsClassifier\n",
    "from sklearn.neural_network import MLPClassifier\n",
    "from PIL import Image, ImageEnhance, ImageOps, ImageFilter\n",
    "from numpy import random\n"
   ]
  },
  {
   "cell_type": "code",
   "execution_count": 2,
   "metadata": {},
   "outputs": [],
   "source": [
    "data_train = joblib.load('train.joblib')\n",
    "data_test = joblib.load('eval1.joblib')"
   ]
  },
  {
   "cell_type": "code",
   "execution_count": 3,
   "metadata": {},
   "outputs": [],
   "source": [
    "#Train images and labels\n",
    "train_images = data_train['data']\n",
    "train_labels = data_train['target']\n",
    "#Test images and labels\n",
    "test_images = data_test['data']\n",
    "test_labels = data_test['target']"
   ]
  },
  {
   "cell_type": "code",
   "execution_count": 4,
   "metadata": {},
   "outputs": [
    {
     "name": "stdout",
     "output_type": "stream",
     "text": [
      "Train Labels - 0: 1100, 1: 1100\n",
      "Test Labels - 0: 500, 1: 500\n"
     ]
    }
   ],
   "source": [
    "# Count labels in training set\n",
    "train_count_0 = np.sum(train_labels == 0)  # Count labels equal to 0\n",
    "train_count_1 = np.sum(train_labels == 1)  # Count labels equal to 1\n",
    "\n",
    "print(f\"Train Labels - 0: {train_count_0}, 1: {train_count_1}\")\n",
    "\n",
    "# Count labels in test set\n",
    "test_count_0 = np.sum(test_labels == 0)  # Count labels equal to 0\n",
    "test_count_1 = np.sum(test_labels == 1)  # Count labels equal to 1\n",
    "\n",
    "print(f\"Test Labels - 0: {test_count_0}, 1: {test_count_1}\")"
   ]
  },
  {
   "cell_type": "code",
   "execution_count": 128,
   "metadata": {},
   "outputs": [],
   "source": [
    "# Select a random index\n",
    "no_images = random.randint(0, train_images.shape[0] - 1)  # Random index within range\n",
    "\n",
    "# Split the images into two parts\n",
    "images1 = train_images[:, :5828 // 2]  # First half of the images\n",
    "images2 = train_images[:, 5828 // 2:]  # Second half of the images\n",
    "\n",
    "# Reshape the selected images for visualization\n",
    "image1_reshaped = images1[no_images].reshape(62, 47)  # Reshape to (62, 47)\n",
    "image2_reshaped = images2[no_images].reshape(62, 47)  # Reshape to (62, 47)\n",
    "\n",
    "# Get the label for the selected pair\n",
    "image_label = train_labels[no_images]\n",
    "\n",
    "# Interpret the label\n",
    "label_text = \"Same\" if image_label == 1 else \"Different\"\n"
   ]
  },
  {
   "cell_type": "code",
   "execution_count": 129,
   "metadata": {},
   "outputs": [
    {
     "data": {
      "image/png": "[encoded data removed]",
      "text/plain": [
       "<Figure size 1000x500 with 2 Axes>"
      ]
     },
     "metadata": {},
     "output_type": "display_data"
    }
   ],
   "source": [
    "# Plot the images with the label\n",
    "plt.figure(figsize=(10, 5))\n",
    "\n",
    "# Image 1\n",
    "plt.subplot(1, 2, 1)\n",
    "plt.imshow(image1_reshaped, cmap='gray')\n",
    "plt.title(\"Image 1\")\n",
    "plt.axis(\"off\")\n",
    "\n",
    "# Image 2\n",
    "plt.subplot(1, 2, 2)\n",
    "plt.imshow(image2_reshaped, cmap='gray')\n",
    "plt.title(\"Image 2\")\n",
    "plt.axis(\"off\")\n",
    "\n",
    "# Add a super title for the class\n",
    "plt.suptitle(f\"Class: {label_text}\", fontsize=14, fontweight='bold')\n",
    "plt.show()"
   ]
  },
  {
   "cell_type": "code",
   "execution_count": 394,
   "metadata": {},
   "outputs": [],
   "source": [
    "#Test images\n",
    "test_images1 = test_images[:, :5828//2]\n",
    "test_images2 = test_images[:, 5828//2:]"
   ]
  },
  {
   "cell_type": "code",
   "execution_count": 395,
   "metadata": {},
   "outputs": [],
   "source": [
    "#Pixel-wise distance\n",
    "pixel_diff = np.abs(images1 - images2)\n",
    "test_pixel_diff = np.abs(test_images1 - test_images2)\n",
    "#image pair euclidean distance\n",
    "euc_dist = np.linalg.norm(images1 - images2, axis=1).reshape(-1, 1)\n",
    "test_euc_dist = np.linalg.norm(test_images1 - test_images2, axis=1).reshape(-1, 1)"
   ]
  },
  {
   "cell_type": "code",
   "execution_count": 396,
   "metadata": {},
   "outputs": [],
   "source": [
    "#feature stacking\n",
    "X_features = np.hstack([pixel_diff, euc_dist])\n",
    "X_test_features = np.hstack([test_pixel_diff, test_euc_dist])"
   ]
  },
  {
   "cell_type": "code",
   "execution_count": 11,
   "metadata": {},
   "outputs": [],
   "source": [
    "#Standardise and PCA\n",
    "#Standardise\n",
    "scaler = StandardScaler()\n",
    "X_features_scaled = scaler.fit_transform(X_features)\n",
    "X_test_features_scaled = scaler.fit_transform(X_test_features)\n",
    "#PCA\n",
    "pca = PCA(n_components=200)  # Adjust based on dataset size\n",
    "X_features_pca = pca.fit_transform(X_features_scaled)\n",
    "X_test_features_pca = pca.fit_transform(X_test_features_scaled)"
   ]
  },
  {
   "cell_type": "code",
   "execution_count": 12,
   "metadata": {},
   "outputs": [],
   "source": [
    "#create y_train, y_test\n",
    "y_train = train_labels\n",
    "y_test = test_labels"
   ]
  },
  {
   "cell_type": "code",
   "execution_count": 13,
   "metadata": {},
   "outputs": [
    {
     "name": "stdout",
     "output_type": "stream",
     "text": [
      "Fitting 5 folds for each of 192 candidates, totalling 960 fits\n"
     ]
    },
    {
     "name": "stderr",
     "output_type": "stream",
     "text": [
      "/opt/miniconda3/envs/com6018/lib/python3.12/site-packages/numpy/ma/core.py:2881: RuntimeWarning: invalid value encountered in cast\n",
      "  _data = np.array(data, dtype=dtype, copy=copy,\n"
     ]
    },
    {
     "name": "stdout",
     "output_type": "stream",
     "text": [
      "Best Parameters: {'pca__n_components': 100, 'svm__C': 1, 'svm__gamma': 0.001, 'svm__kernel': 'rbf'}\n",
      "Best Cross-Validation Accuracy: 0.6504545454545455\n"
     ]
    }
   ],
   "source": [
    "#SVM pipeline\n",
    "pipeline_svm = Pipeline([\n",
    "    ('scaler', StandardScaler()),\n",
    "    ('pca', PCA()),                   \n",
    "    ('svm', SVC(random_state=1, kernel = 'rbf', probability=True))\n",
    "])\n",
    "\n",
    "# Define the parameter grid\n",
    "param_grid_svm = [\n",
    "    {\n",
    "        'pca__n_components': [100, 200, 300],\n",
    "        'svm__kernel': ['rbf'],  # RBF kernel\n",
    "        'svm__C': [0.01, 0.1, 1, 10],\n",
    "        'svm__gamma': [1e-5, 1e-4, 0.001, 0.01]\n",
    "    },\n",
    "    {\n",
    "        'pca__n_components': [100, 200, 300],\n",
    "        'svm__kernel': ['poly'],  # Polynomial kernel\n",
    "        'svm__C': [0.01, 0.1, 1, 10],\n",
    "        'svm__gamma': [1e-5, 1e-4, 0.001, 0.01],\n",
    "        'svm__degree': [2, 3, 4]  # Degree of the polynomial kernel\n",
    "    }\n",
    "]\n",
    "\n",
    "# Perform Grid Search\n",
    "grid_search_svm = GridSearchCV(estimator=pipeline_svm, param_grid=param_grid_svm, cv=5, verbose=1, n_jobs=-1)\n",
    "grid_search_svm.fit(X_features, y_train)\n",
    "\n",
    "# Best parameters and score\n",
    "print(\"Best Parameters:\", grid_search_svm.best_params_)\n",
    "print(\"Best Cross-Validation Accuracy:\", grid_search_svm.best_score_)"
   ]
  },
  {
   "cell_type": "code",
   "execution_count": 14,
   "metadata": {},
   "outputs": [
    {
     "name": "stdout",
     "output_type": "stream",
     "text": [
      "Training Accuracy: 95.86%\n",
      "Testing Accuracy: 65.10%\n"
     ]
    }
   ],
   "source": [
    "y_train_pred = grid_search_svm.best_estimator_.predict(X_features)\n",
    "train_accuracy = accuracy_score(y_train, y_train_pred)\n",
    "print(f\"Training Accuracy: {train_accuracy * 100:.2f}%\")\n",
    "y_test_pred = grid_search_svm.best_estimator_.predict(X_test_features)\n",
    "test_accuracy = accuracy_score(y_test, y_test_pred)\n",
    "print(f\"Testing Accuracy: {test_accuracy * 100:.2f}%\")"
   ]
  },
  {
   "cell_type": "code",
   "execution_count": 15,
   "metadata": {},
   "outputs": [
    {
     "name": "stdout",
     "output_type": "stream",
     "text": [
      "Fitting 5 folds for each of 108 candidates, totalling 540 fits\n",
      "Best Parameters: {'pca__n_components': 100, 'rf__max_depth': 10, 'rf__min_samples_leaf': 2, 'rf__min_samples_split': 10, 'rf__n_estimators': 100}\n",
      "Best Cross-Validation Accuracy: 0.6495454545454545\n"
     ]
    }
   ],
   "source": [
    "# Random Forest pipeline\n",
    "pipeline_rf = Pipeline([\n",
    "    ('scaler', StandardScaler()),  # Scaling step\n",
    "    ('pca', PCA()),               \n",
    "    ('rf', RandomForestClassifier(random_state=1))  # Random Forest classifier\n",
    "])\n",
    "\n",
    "# Define the parameter grid\n",
    "param_grid_rf = {\n",
    "    'pca__n_components': [100, 200],  # Dimensionality reduction\n",
    "    'rf__n_estimators': [100, 200],  # Number of trees in the forest\n",
    "    'rf__max_depth': [10, 20, 30],  # Maximum depth of the tree\n",
    "    'rf__min_samples_split': [2, 5, 10],  # Minimum number of samples required to split a node\n",
    "    'rf__min_samples_leaf': [2, 4, 8]  # Minimum number of samples required at each leaf node\n",
    "}\n",
    "\n",
    "# Perform Grid Search\n",
    "grid_search_rf = GridSearchCV(estimator=pipeline_rf, param_grid=param_grid_rf, cv=5, verbose=1, n_jobs=-1)\n",
    "grid_search_rf.fit(X_features, y_train)\n",
    "\n",
    "# Best parameters and score\n",
    "print(\"Best Parameters:\", grid_search_rf.best_params_)\n",
    "print(\"Best Cross-Validation Accuracy:\", grid_search_rf.best_score_)"
   ]
  },
  {
   "cell_type": "code",
   "execution_count": 16,
   "metadata": {},
   "outputs": [
    {
     "name": "stdout",
     "output_type": "stream",
     "text": [
      "Train Set Accuracy RF: 97.14%\n",
      "Test Set Accuracy RF: 63.70%\n"
     ]
    }
   ],
   "source": [
    "# Evaluate on the test set\n",
    "best_model_rf = grid_search_rf.best_estimator_\n",
    "y_train_pred_rf = best_model_rf.predict(X_features)\n",
    "train_accuracy_rf = accuracy_score(y_train, y_train_pred_rf)\n",
    "print(f\"Train Set Accuracy RF: {train_accuracy_rf * 100:.2f}%\")\n",
    "\n",
    "y_test_pred_rf = best_model_rf.predict(X_test_features)\n",
    "test_accuracy_rf = accuracy_score(y_test, y_test_pred_rf)\n",
    "print(f\"Test Set Accuracy RF: {test_accuracy_rf * 100:.2f}%\")"
   ]
  },
  {
   "cell_type": "code",
   "execution_count": 22,
   "metadata": {},
   "outputs": [
    {
     "name": "stdout",
     "output_type": "stream",
     "text": [
      "Fitting 5 folds for each of 168 candidates, totalling 840 fits\n"
     ]
    },
    {
     "name": "stderr",
     "output_type": "stream",
     "text": [
      "/opt/miniconda3/envs/com6018/lib/python3.12/site-packages/numpy/ma/core.py:2881: RuntimeWarning: invalid value encountered in cast\n",
      "  _data = np.array(data, dtype=dtype, copy=copy,\n"
     ]
    },
    {
     "name": "stdout",
     "output_type": "stream",
     "text": [
      "Best Parameters: {'knn__metric': 'minkowski', 'knn__n_neighbors': 50, 'knn__weights': 'uniform', 'pca__n_components': 50}\n",
      "Best Cross-Validation Accuracy: 0.6177272727272728\n"
     ]
    }
   ],
   "source": [
    "# Define the pipeline\n",
    "pipeline_knn = Pipeline([\n",
    "    ('scaler', StandardScaler()),  # Scaling step (important for distance-based methods)\n",
    "    ('pca', PCA()),                # PCA for dimensionality reduction\n",
    "    ('knn', KNeighborsClassifier())  # KNN classifier\n",
    "])\n",
    "\n",
    "# Define the parameter grid\n",
    "param_grid_knn = {\n",
    "    'pca__n_components': [50,100, 200,300],   # Number of PCA components\n",
    "    'knn__n_neighbors': [1, 3, 5, 10, 20, 50, 100],    # Number of neighbors\n",
    "    'knn__weights': ['uniform', 'distance'],  # Weighting function\n",
    "    'knn__metric': ['euclidean', 'manhattan', 'minkowski']  # Distance metric\n",
    "}\n",
    "\n",
    "# Perform Grid Search\n",
    "grid_search_knn = GridSearchCV(estimator=pipeline_knn, param_grid=param_grid_knn, cv=5, verbose=1, n_jobs=-1)\n",
    "grid_search_knn.fit(X_features, y_train)\n",
    "\n",
    "# Best parameters and score\n",
    "print(\"Best Parameters:\", grid_search_knn.best_params_)\n",
    "print(\"Best Cross-Validation Accuracy:\", grid_search_knn.best_score_)"
   ]
  },
  {
   "cell_type": "code",
   "execution_count": 23,
   "metadata": {},
   "outputs": [
    {
     "name": "stdout",
     "output_type": "stream",
     "text": [
      "Train Set Accuracy KNN: 64.50%\n",
      "Test Set Accuracy KNN: 62.40%\n"
     ]
    }
   ],
   "source": [
    "# Evaluate the best KNN model on the training set\n",
    "best_model_knn = grid_search_knn.best_estimator_  # Best KNN model from Grid Search\n",
    "y_train_pred_knn = best_model_knn.predict(X_features)  # Predict on training data\n",
    "train_accuracy_knn = accuracy_score(y_train, y_train_pred_knn)  # Calculate training accuracy\n",
    "print(f\"Train Set Accuracy KNN: {train_accuracy_knn * 100:.2f}%\")\n",
    "\n",
    "# Evaluate the best KNN model on the test set\n",
    "y_test_pred_knn = best_model_knn.predict(X_test_features)  # Predict on testing data\n",
    "test_accuracy_knn = accuracy_score(y_test, y_test_pred_knn)  # Calculate testing accuracy\n",
    "print(f\"Test Set Accuracy KNN: {test_accuracy_knn * 100:.2f}%\")"
   ]
  },
  {
   "cell_type": "code",
   "execution_count": 30,
   "metadata": {},
   "outputs": [
    {
     "name": "stdout",
     "output_type": "stream",
     "text": [
      "Fitting 5 folds for each of 72 candidates, totalling 360 fits\n",
      "Best Parameters: {'nn__activation': 'relu', 'nn__alpha': 0.01, 'nn__early_stopping': True, 'nn__hidden_layer_sizes': (200, 100, 50, 25), 'nn__solver': 'adam', 'pca__n_components': 100}\n",
      "Best Cross-Validation Accuracy: 0.64\n"
     ]
    }
   ],
   "source": [
    "from sklearn.neural_network import MLPClassifier\n",
    "from sklearn.pipeline import Pipeline\n",
    "from sklearn.model_selection import GridSearchCV\n",
    "\n",
    "# Define the pipeline\n",
    "pipeline_nn = Pipeline([\n",
    "    ('scaler', StandardScaler()),  # Scaling step\n",
    "    ('pca', PCA()),                # PCA for dimensionality reduction\n",
    "    ('nn', MLPClassifier(max_iter=500, random_state=1))  # Neural Network classifier\n",
    "])\n",
    "\n",
    "# Define the parameter grid\n",
    "param_grid_nn = {\n",
    "    'pca__n_components': [50, 100, 200, 300],  # Number of PCA components\n",
    "    'nn__hidden_layer_sizes': [(50,), (100,), (100, 50), (200, 100), (200, 100, 50), (200, 100, 50, 25) ],  # Hidden layer sizes\n",
    "    'nn__activation': ['relu'],  # Activation functions\n",
    "    'nn__solver': ['adam'],  # Optimization methods\n",
    "    'nn__alpha': [0.0001, 0.001, 0.01],\n",
    "    'nn__early_stopping': [True]\n",
    "}\n",
    "\n",
    "# Perform Grid Search\n",
    "grid_search_nn = GridSearchCV(estimator=pipeline_nn, param_grid=param_grid_nn, cv=5, verbose=1, n_jobs=-1)\n",
    "grid_search_nn.fit(X_features, y_train)\n",
    "\n",
    "# Best parameters and score\n",
    "print(\"Best Parameters:\", grid_search_nn.best_params_)\n",
    "print(\"Best Cross-Validation Accuracy:\", grid_search_nn.best_score_)"
   ]
  },
  {
   "cell_type": "code",
   "execution_count": 31,
   "metadata": {},
   "outputs": [
    {
     "name": "stdout",
     "output_type": "stream",
     "text": [
      "Train Set Accuracy NN: 77.91%\n",
      "Test Set Accuracy NN: 64.10%\n"
     ]
    }
   ],
   "source": [
    "# Evaluate the best Neural Network model on the training set\n",
    "best_model_nn = grid_search_nn.best_estimator_  # Best NN model from Grid Search\n",
    "y_train_pred_nn = best_model_nn.predict(X_features)  # Predict on training data\n",
    "train_accuracy_nn = accuracy_score(y_train, y_train_pred_nn)  # Calculate training accuracy\n",
    "print(f\"Train Set Accuracy NN: {train_accuracy_nn * 100:.2f}%\")\n",
    "\n",
    "# Evaluate the best Neural Network model on the test set\n",
    "y_test_pred_nn = best_model_nn.predict(X_test_features)  # Predict on testing data\n",
    "test_accuracy_nn = accuracy_score(y_test, y_test_pred_nn)  # Calculate testing accuracy\n",
    "print(f\"Test Set Accuracy NN: {test_accuracy_nn * 100:.2f}%\")"
   ]
  },
  {
   "cell_type": "markdown",
   "metadata": {},
   "source": [
    "### Augmentation"
   ]
  },
  {
   "cell_type": "code",
   "execution_count": 370,
   "metadata": {},
   "outputs": [],
   "source": [
    "def vflip(image):\n",
    "    image_aug = ImageOps.flip(image)\n",
    "    return image_aug\n",
    "\n",
    "def hflip(image):\n",
    "    image_aug = ImageOps.mirror(image)\n",
    "    return image_aug\n",
    "\n",
    "def brightness(image, min_factor=0.8, max_factor=1.2):\n",
    "    enhancer = ImageEnhance.Brightness(image)\n",
    "    factor = np.random.uniform(min_factor, max_factor)\n",
    "    image_aug =  enhancer.enhance(factor)\n",
    "    return image_aug\n",
    "\n",
    "def contrast(image, min_factor=0.8, max_factor=1.2):\n",
    "    enhancer = ImageEnhance.Contrast(image)\n",
    "    factor = np.random.uniform(min_factor, max_factor)\n",
    "    image_aug =  enhancer.enhance(factor)\n",
    "    return image_aug\n",
    "\n",
    "def edges(image):\n",
    "    image_aug = image.filter(ImageFilter.FIND_EDGES)\n",
    "    return image_aug\n",
    "\n",
    "def rotate(image1, image2, angles=10):\n",
    "    angle = np.random.uniform(-angles, angles)  # Generate a single random angle\n",
    "    image1_aug = image1.rotate(angle)\n",
    "    image2_aug = image2.rotate(angle)\n",
    "    return image1_aug, image2_aug\n",
    "\n",
    "def blur(image, radius=0.5):\n",
    "    image_aug = image.filter(ImageFilter.GaussianBlur(radius))\n",
    "    return image_aug\n",
    "\n",
    "def invert_colours(image):\n",
    "    image_aug = ImageOps.invert(image)\n",
    "    return image_aug\n"
   ]
  },
  {
   "cell_type": "code",
   "execution_count": 385,
   "metadata": {},
   "outputs": [],
   "source": [
    "def augment_images_set(train_images, train_labels, augmentation, augmented_sets):\n",
    "\n",
    "    indices = np.random.choice(len(train_images), size=augmented_sets, replace=False)\n",
    "\n",
    "    augmented_dataset = []\n",
    "    augmented_labels = []\n",
    "\n",
    "    for idx in indices:\n",
    "        pair = train_images[idx]\n",
    "        label = train_labels[idx]\n",
    "        \n",
    "        image1 = Image.fromarray(pair[:2914].reshape(62, 47) * 255).convert(\"L\")\n",
    "        image2 = Image.fromarray(pair[2914:].reshape(62, 47) * 255).convert(\"L\")\n",
    "\n",
    "        # Apply augmentation (e.g., rotate both images by the same angle)\n",
    "        if augmentation == rotate:\n",
    "            image1_aug, image2_aug = augmentation(image1, image2)  # Pass both images to rotate\n",
    "        else:\n",
    "            image1_aug = augmentation(image1)\n",
    "            image2_aug = augmentation(image2)\n",
    "\n",
    "        image1_aug_flat = np.array(image1_aug).flatten()\n",
    "        image2_aug_flat = np.array(image2_aug).flatten()\n",
    "        \n",
    "        augmented_pair = np.hstack([image1_aug_flat, image2_aug_flat])\n",
    "        augmented_dataset.append(augmented_pair)\n",
    "        augmented_labels.append(label)\n",
    "    \n",
    "    # Convert lists to numpy arrays\n",
    "    augmented_dataset = np.array(augmented_dataset)\n",
    "    augmented_labels = np.array(augmented_labels)\n",
    "    return augmented_dataset, augmented_labels\n",
    "\n",
    "augmented_dataset_vflip, augmented_labels_vflip = augment_images_set(train_images, train_labels,vflip, 100)\n",
    "augmented_dataset_hflip, augmented_labels_hflip = augment_images_set(train_images, train_labels,hflip, 100)\n",
    "augmented_dataset_brightness, augmented_labels_brightness = augment_images_set(train_images, train_labels,brightness, 1000)\n",
    "augmented_dataset_contrast, augmented_labels_contrast = augment_images_set(train_images, train_labels,contrast, 100)\n",
    "# augmented_dataset_edges, augmented_labels_edges = augment_images_set(train_images, train_labels,edges, 500)\n",
    "augmented_dataset_rotate, augmented_labels_rotate = augment_images_set(train_images, train_labels,rotate, 100)\n",
    "# augmented_dataset_blur, augmented_labels_blur = augment_images_set(train_images, train_labels,blur, 150)\n",
    "# augmented_dataset_invert_colours, augmented_labels_invert_colours = augment_images_set(train_images, train_labels,invert_colours, 150)\n",
    "\n",
    "augmented_dataset_combined = np.vstack([\n",
    "    augmented_dataset_vflip,\n",
    "    augmented_dataset_hflip,\n",
    "    augmented_dataset_brightness,\n",
    "    augmented_dataset_contrast,\n",
    "    # augmented_dataset_edges,\n",
    "    augmented_dataset_rotate,\n",
    "    # augmented_dataset_blur,\n",
    "    # augmented_dataset_invert_colours\n",
    "])\n",
    "\n",
    "augmented_labels_combined = np.hstack([\n",
    "    augmented_labels_vflip,\n",
    "    augmented_labels_hflip,\n",
    "    augmented_labels_brightness,\n",
    "    augmented_labels_contrast,\n",
    "    # augmented_labels_edges,\n",
    "    augmented_labels_rotate,\n",
    "    # augmented_labels_blur,\n",
    "    # augmented_labels_invert_colours\n",
    "])\n",
    "\n",
    "final_train_images = np.vstack([train_images, augmented_dataset_combined])\n",
    "final_train_labels = np.hstack([train_labels, augmented_labels_combined])"
   ]
  },
  {
   "cell_type": "code",
   "execution_count": 386,
   "metadata": {},
   "outputs": [
    {
     "data": {
      "image/png": "[encoded data removed]",
      "text/plain": [
       "<Figure size 1000x500 with 2 Axes>"
      ]
     },
     "metadata": {},
     "output_type": "display_data"
    }
   ],
   "source": [
    "# Select a random index\n",
    "no_images = random.randint(0, augmented_dataset_combined.shape[0] - 1)  # Random index within range\n",
    "\n",
    "# Split the images into two parts\n",
    "images1 = augmented_dataset_combined[:, :5828 // 2]  # First half of the images\n",
    "images2 = augmented_dataset_combined[:, 5828 // 2:]  # Second half of the images\n",
    "\n",
    "# Reshape the selected images for visualization\n",
    "image1_reshaped = images1[no_images].reshape(62, 47)  # Reshape to (62, 47)\n",
    "image2_reshaped = images2[no_images].reshape(62, 47)  # Reshape to (62, 47)\n",
    "\n",
    "# Get the label for the selected pair\n",
    "image_label = augmented_labels_combined[no_images]\n",
    "\n",
    "# Interpret the label\n",
    "label_text = \"Same\" if image_label == 1 else \"Different\"\n",
    "\n",
    "# Plot the images with the label\n",
    "plt.figure(figsize=(10, 5))\n",
    "\n",
    "# Image 1\n",
    "plt.subplot(1, 2, 1)\n",
    "plt.imshow(image1_reshaped, cmap='gray')\n",
    "plt.title(\"Image 1\")\n",
    "plt.axis(\"off\")\n",
    "\n",
    "# Image 2\n",
    "plt.subplot(1, 2, 2)\n",
    "plt.imshow(image2_reshaped, cmap='gray')\n",
    "plt.title(\"Image 2\")\n",
    "plt.axis(\"off\")\n",
    "\n",
    "# Add a super title for the class\n",
    "plt.suptitle(f\"Class: {label_text}\", fontsize=14, fontweight='bold')\n",
    "plt.show()"
   ]
  },
  {
   "cell_type": "code",
   "execution_count": 387,
   "metadata": {},
   "outputs": [
    {
     "name": "stdout",
     "output_type": "stream",
     "text": [
      "Train Labels - 0: 1822, 1: 1778\n"
     ]
    }
   ],
   "source": [
    "# Count labels in training set\n",
    "final_train_count_0 = np.sum(final_train_labels == 0)  # Count labels equal to 0\n",
    "final_train_count_1 = np.sum(final_train_labels == 1)  # Count labels equal to 1\n",
    "\n",
    "print(f\"Train Labels - 0: {final_train_count_0}, 1: {final_train_count_1}\")"
   ]
  },
  {
   "cell_type": "code",
   "execution_count": 388,
   "metadata": {},
   "outputs": [],
   "source": [
    "#prep data\n",
    "# Split the images into two parts\n",
    "images1_aug = final_train_images[:, :5828 // 2]\n",
    "images2_aug = final_train_images[:,5828 // 2:]\n",
    "#Pixel-wise distance\n",
    "pixel_diff_aug = np.abs(images1_aug - images2_aug)\n",
    "#image pair euclidean distance\n",
    "euc_dist_aug = np.linalg.norm(images1_aug - images2_aug, axis=1).reshape(-1, 1)\n",
    "#feature stacking\n",
    "X_features_aug = np.hstack([pixel_diff_aug, euc_dist_aug])"
   ]
  },
  {
   "cell_type": "code",
   "execution_count": null,
   "metadata": {},
   "outputs": [],
   "source": [
    "images1_aug = final_train_images[:, :5828 // 2]\n",
    "images2_aug = final_train_images[:,5828 // 2:]"
   ]
  },
  {
   "cell_type": "code",
   "execution_count": 397,
   "metadata": {},
   "outputs": [],
   "source": [
    "#Standardise and PCA\n",
    "#Standardise\n",
    "scaler = StandardScaler()\n",
    "X_features_scaled_aug = scaler.fit_transform(X_features_aug)\n",
    "X_test_features_scaled = scaler.transform(X_test_features)\n",
    "#PCA\n",
    "pca = PCA(n_components=50)  # Adjust based on dataset size\n",
    "X_features_pca_aug = pca.fit_transform(X_features_scaled_aug)\n",
    "X_test_features_pca = pca.transform(X_test_features_scaled)"
   ]
  },
  {
   "cell_type": "code",
   "execution_count": null,
   "metadata": {},
   "outputs": [],
   "source": [
    "#Train images and labels\n",
    "train_images = data_train['data']\n",
    "train_labels = data_train['target']\n",
    "#Test images and labels\n",
    "test_images = data_test['data']\n",
    "test_labels = data_test['target']"
   ]
  },
  {
   "cell_type": "code",
   "execution_count": 405,
   "metadata": {},
   "outputs": [
    {
     "name": "stdout",
     "output_type": "stream",
     "text": [
      "Fitting 5 folds for each of 1 candidates, totalling 5 fits\n",
      "[CV 2/5] END ........................kernel=rbf;, score=0.494 total time=   0.4s\n",
      "[CV 3/5] END ........................kernel=rbf;, score=0.494 total time=   0.4s\n",
      "[CV 1/5] END ........................kernel=rbf;, score=0.494 total time=   0.4s\n",
      "[CV 5/5] END ........................kernel=rbf;, score=0.585 total time=   0.4s\n",
      "[CV 4/5] END ........................kernel=rbf;, score=0.585 total time=   0.5s\n",
      "Best Parameters: {'kernel': 'rbf'}\n",
      "Best Cross-Validation Accuracy: 0.5305555555555556\n"
     ]
    }
   ],
   "source": [
    "#SVM pipeline\n",
    "# pipeline_svm = Pipeline([\n",
    "#     ('scaler', StandardScaler()),\n",
    "#     ('pca', PCA()),                   \n",
    "#     ('svm', SVC(random_state=1, kernel = 'rbf', probability=True))\n",
    "# ])\n",
    "\n",
    "# Define the parameter grid\n",
    "param_grid_svm = {\n",
    "        'kernel': ['rbf'],  # RBF kernel\n",
    "        # 'C': np.logspace(1,1,3),\n",
    "        # 'gamma': np.logspace(-3,1,1)\n",
    "    }\n",
    "# ,\n",
    "    # {\n",
    "    #     'pca__n_components': [100, 200, 300],\n",
    "    #     'svm__kernel': ['poly'],  # Polynomial kernel\n",
    "    #     'svm__C': [0.01, 0.1, 1, 10],\n",
    "    #     'svm__gamma': [1e-5, 1e-4, 0.001, 0.01],\n",
    "    #     'svm__degree': [2, 3, 4]  # Degree of the polynomial kernel\n",
    "    # }\n",
    "svm = SVC(random_state=1)\n",
    "\n",
    "# Perform Grid Search\n",
    "grid_search_svm = GridSearchCV(estimator=svm, param_grid=param_grid_svm, cv=5, verbose=3, n_jobs=-1, scoring='accuracy')\n",
    "grid_search_svm.fit(X_features_pca_aug, final_train_labels)\n",
    "\n",
    "# Best parameters and score\n",
    "print(\"Best Parameters:\", grid_search_svm.best_params_)\n",
    "print(\"Best Cross-Validation Accuracy:\", grid_search_svm.best_score_)"
   ]
  },
  {
   "cell_type": "code",
   "execution_count": 406,
   "metadata": {},
   "outputs": [
    {
     "name": "stdout",
     "output_type": "stream",
     "text": [
      "Training Accuracy: 62.44%\n",
      "Testing Accuracy: 50.00%\n"
     ]
    }
   ],
   "source": [
    "y_train_pred = grid_search_svm.best_estimator_.predict(X_features_pca_aug)\n",
    "\n",
    "train_accuracy = accuracy_score(final_train_labels, y_train_pred)\n",
    "print(f\"Training Accuracy: {train_accuracy * 100:.2f}%\")\n",
    "\n",
    "y_test_pred = grid_search_svm.best_estimator_.predict(X_test_features_pca)\n",
    "\n",
    "test_accuracy = accuracy_score(y_test, y_test_pred)\n",
    "print(f\"Testing Accuracy: {test_accuracy * 100:.2f}%\")"
   ]
  },
  {
   "cell_type": "code",
   "execution_count": null,
   "metadata": {},
   "outputs": [
    {
     "name": "stdout",
     "output_type": "stream",
     "text": [
      "Fitting 5 folds for each of 1 candidates, totalling 5 fits\n",
      "Best Parameters: {'pca__n_components': 200, 'rf__max_depth': 10, 'rf__min_samples_leaf': 10, 'rf__min_samples_split': 10, 'rf__n_estimators': 100}\n",
      "Best Cross-Validation Accuracy: 0.6178723404255319\n"
     ]
    }
   ],
   "source": [
    "# Random Forest pipeline\n",
    "pipeline_rf = Pipeline([\n",
    "    ('scaler', StandardScaler()),  # Scaling step\n",
    "    ('pca', PCA()),               \n",
    "    ('rf', RandomForestClassifier(random_state=1))  # Random Forest classifier\n",
    "])\n",
    "\n",
    "# Define the parameter grid\n",
    "param_grid_rf = {\n",
    "    'pca__n_components': [100, 200],  # Dimensionality reduction\n",
    "    'rf__n_estimators': [100, 200],  # Number of trees in the forest\n",
    "    'rf__max_depth': [10, 20, 30],  # Maximum depth of the tree\n",
    "    'rf__min_samples_split': [2, 5, 10],  # Minimum number of samples required to split a node\n",
    "    'rf__min_samples_leaf': [2, 4, 8]  # Minimum number of samples required at each leaf node\n",
    "}\n",
    "\n",
    "# Perform Grid Search\n",
    "grid_search_rf = GridSearchCV(estimator=pipeline_rf, param_grid=param_grid_rf, cv=5, verbose=1, n_jobs=-1, scoring='accuracy')\n",
    "grid_search_rf.fit(X_features_aug, final_train_labels)\n",
    "\n",
    "# Best parameters and score\n",
    "print(\"Best Parameters:\", grid_search_rf.best_params_)\n",
    "print(\"Best Cross-Validation Accuracy:\", grid_search_rf.best_score_)"
   ]
  },
  {
   "cell_type": "code",
   "execution_count": null,
   "metadata": {},
   "outputs": [
    {
     "name": "stdout",
     "output_type": "stream",
     "text": [
      "Train Set Accuracy RF: 94.04%\n",
      "Test Set Accuracy RF: 64.70%\n"
     ]
    }
   ],
   "source": [
    "# Evaluate on the test set\n",
    "best_model_rf = grid_search_rf.best_estimator_\n",
    "y_train_pred_rf = best_model_rf.predict(X_features_aug)\n",
    "train_accuracy_rf = accuracy_score(final_train_labels, y_train_pred_rf)\n",
    "print(f\"Train Set Accuracy RF: {train_accuracy_rf * 100:.2f}%\")\n",
    "\n",
    "y_test_pred_rf = best_model_rf.predict(X_test_features)\n",
    "test_accuracy_rf = accuracy_score(y_test, y_test_pred_rf)\n",
    "print(f\"Test Set Accuracy RF: {test_accuracy_rf * 100:.2f}%\")"
   ]
  },
  {
   "cell_type": "code",
   "execution_count": null,
   "metadata": {},
   "outputs": [
    {
     "name": "stdout",
     "output_type": "stream",
     "text": [
      "Fitting 5 folds for each of 18 candidates, totalling 90 fits\n",
      "Best Parameters: {'knn__metric': 'minkowski', 'knn__n_neighbors': 10, 'knn__weights': 'uniform', 'pca__n_components': 200}\n",
      "Best Cross-Validation Accuracy: 0.595531914893617\n"
     ]
    }
   ],
   "source": [
    "# Define the pipeline\n",
    "pipeline_knn = Pipeline([\n",
    "    ('scaler', StandardScaler()),  # Scaling step (important for distance-based methods)\n",
    "    ('pca', PCA()),                # PCA for dimensionality reduction\n",
    "    ('knn', KNeighborsClassifier())  # KNN classifier\n",
    "])\n",
    "\n",
    "# Define the parameter grid\n",
    "param_grid_knn = {\n",
    "    'pca__n_components': [50,100, 200,300],   # Number of PCA components\n",
    "    'knn__n_neighbors': [1, 3, 5, 10, 20, 50, 100],    # Number of neighbors\n",
    "    'knn__weights': ['uniform', 'distance'],  # Weighting function\n",
    "    'knn__metric': ['euclidean', 'manhattan', 'minkowski']  # Distance metric\n",
    "}\n",
    "\n",
    "# Perform Grid Search\n",
    "grid_search_knn = GridSearchCV(estimator=pipeline_knn, param_grid=param_grid_knn, cv=5, verbose=1, n_jobs=-1, scoring='accuracy')\n",
    "grid_search_knn.fit(X_features_aug, final_train_labels)\n",
    "\n",
    "# Best parameters and score\n",
    "print(\"Best Parameters:\", grid_search_knn.best_params_)\n",
    "print(\"Best Cross-Validation Accuracy:\", grid_search_knn.best_score_)"
   ]
  },
  {
   "cell_type": "code",
   "execution_count": null,
   "metadata": {},
   "outputs": [
    {
     "name": "stdout",
     "output_type": "stream",
     "text": [
      "Train Set Accuracy KNN: 67.47%\n",
      "Test Set Accuracy KNN: 59.90%\n"
     ]
    }
   ],
   "source": [
    "# Evaluate the best KNN model on the training set\n",
    "best_model_knn = grid_search_knn.best_estimator_  # Best KNN model from Grid Search\n",
    "y_train_pred_knn = best_model_knn.predict(X_features_aug)  # Predict on training data\n",
    "train_accuracy_knn = accuracy_score(final_train_labels, y_train_pred_knn)  # Calculate training accuracy\n",
    "print(f\"Train Set Accuracy KNN: {train_accuracy_knn * 100:.2f}%\")\n",
    "\n",
    "# Evaluate the best KNN model on the test set\n",
    "y_test_pred_knn = best_model_knn.predict(X_test_features)  # Predict on testing data\n",
    "test_accuracy_knn = accuracy_score(y_test, y_test_pred_knn)  # Calculate testing accuracy\n",
    "print(f\"Test Set Accuracy KNN: {test_accuracy_knn * 100:.2f}%\")"
   ]
  },
  {
   "cell_type": "code",
   "execution_count": 368,
   "metadata": {},
   "outputs": [
    {
     "name": "stdout",
     "output_type": "stream",
     "text": [
      "Fitting 5 folds for each of 18 candidates, totalling 90 fits\n",
      "Best Parameters: {'nn__activation': 'relu', 'nn__alpha': 0.001, 'nn__early_stopping': True, 'nn__hidden_layer_sizes': (200, 100), 'nn__solver': 'adam', 'pca__n_components': 200}\n",
      "Best Cross-Validation Accuracy: 0.5768085106382979\n"
     ]
    }
   ],
   "source": [
    "from sklearn.neural_network import MLPClassifier\n",
    "from sklearn.pipeline import Pipeline\n",
    "from sklearn.model_selection import GridSearchCV\n",
    "\n",
    "# Define the pipeline\n",
    "pipeline_nn = Pipeline([\n",
    "    ('scaler', StandardScaler()),  # Scaling step\n",
    "    ('pca', PCA()),                # PCA for dimensionality reduction\n",
    "    ('nn', MLPClassifier(max_iter=500, random_state=1))  # Neural Network classifier\n",
    "])\n",
    "\n",
    "# Define the parameter grid\n",
    "param_grid_nn = {\n",
    "    'pca__n_components': [50, 100, 200, 300],  # Number of PCA components\n",
    "    'nn__hidden_layer_sizes': [(50,), (100,), (100, 50), (200, 100), (200, 100, 50), (200, 100, 50, 25) ],  # Hidden layer sizes\n",
    "    'nn__activation': ['relu'],  # Activation functions\n",
    "    'nn__solver': ['adam'],  # Optimization methods\n",
    "    'nn__alpha': [0.0001, 0.001, 0.01],\n",
    "    'nn__early_stopping': [True]\n",
    "}\n",
    "\n",
    "# Perform Grid Search\n",
    "grid_search_nn = GridSearchCV(estimator=pipeline_nn, param_grid=param_grid_nn, cv=5, verbose=1, n_jobs=-1,scoring='accuracy')\n",
    "grid_search_nn.fit(X_features_aug, final_train_labels)\n",
    "\n",
    "# Best parameters and score\n",
    "print(\"Best Parameters:\", grid_search_nn.best_params_)\n",
    "print(\"Best Cross-Validation Accuracy:\", grid_search_nn.best_score_)"
   ]
  },
  {
   "cell_type": "code",
   "execution_count": 369,
   "metadata": {},
   "outputs": [
    {
     "name": "stdout",
     "output_type": "stream",
     "text": [
      "Train Set Accuracy NN: 76.38%\n",
      "Test Set Accuracy NN: 52.70%\n"
     ]
    }
   ],
   "source": [
    "# Evaluate the best Neural Network model on the training set\n",
    "best_model_nn = grid_search_nn.best_estimator_  # Best NN model from Grid Search\n",
    "y_train_pred_nn = best_model_nn.predict(X_features_aug)  # Predict on training data\n",
    "train_accuracy_nn = accuracy_score(final_train_labels, y_train_pred_nn)  # Calculate training accuracy\n",
    "print(f\"Train Set Accuracy NN: {train_accuracy_nn * 100:.2f}%\")\n",
    "\n",
    "# Evaluate the best Neural Network model on the test set\n",
    "y_test_pred_nn = best_model_nn.predict(X_test_features)  # Predict on testing data\n",
    "test_accuracy_nn = accuracy_score(y_test, y_test_pred_nn)  # Calculate testing accuracy\n",
    "print(f\"Test Set Accuracy NN: {test_accuracy_nn * 100:.2f}%\")"
   ]
  },
  {
   "cell_type": "code",
   "execution_count": null,
   "metadata": {},
   "outputs": [],
   "source": [
    "# #SVM pipeline images augmented only\n",
    "\n",
    "# # Define the parameter grid\n",
    "# param_grid_svm = {\n",
    "#         'kernel': ['rbf'],\n",
    "#         'C': [0.01, 0.1, 1, 10, 100, 1000],\n",
    "#         'gamma': [1e-5, 1e-4, 0.001, 0.01, 0.1, 1],\n",
    "#     }\n",
    "# svm = SVC(random_state=1)\n",
    "# # Perform Grid Search\n",
    "# grid_search_svm = GridSearchCV(estimator=svm, param_grid=param_grid_svm, cv=5, verbose=1, n_jobs=-1)\n",
    "# grid_search_svm.fit(train_images_pca_aug, train_labels_aug)\n",
    "\n",
    "# # Best parameters and score\n",
    "# print(\"Best Parameters:\", grid_search_svm.best_params_)\n",
    "# print(\"Best Cross-Validation Accuracy:\", grid_search_svm.best_score_)\n",
    "\n",
    "# #SVM result images augmented only\n",
    "\n",
    "# y_train_pred = grid_search_svm.best_estimator_.predict(train_images_pca_aug)\n",
    "# train_accuracy = accuracy_score(train_labels_aug, y_train_pred)\n",
    "# print(f\"Training Accuracy: {train_accuracy * 100:.2f}%\")\n",
    "\n",
    "# y_test_pred = grid_search_svm.best_estimator_.predict(test_images_pca)\n",
    "# test_accuracy = accuracy_score(test_labels, y_test_pred)\n",
    "# print(f\"Testing Accuracy: {test_accuracy * 100:.2f}%\")"
   ]
  },
  {
   "cell_type": "code",
   "execution_count": null,
   "metadata": {},
   "outputs": [],
   "source": [
    "# # Random Forest pipeline images aug\n",
    "\n",
    "# param_grid_rf = {\n",
    "#     'n_estimators': [100, 200],\n",
    "#     'max_depth': [5],\n",
    "#     'min_samples_split': [10, 15],\n",
    "#     'min_samples_leaf': [10, 15]\n",
    "# }\n",
    "# rf = RandomForestClassifier(random_state=1)\n",
    "# # Perform Grid Search\n",
    "# grid_search_rf = GridSearchCV(estimator=rf, param_grid=param_grid_rf, cv=5, verbose=1, n_jobs=-1)\n",
    "# grid_search_rf.fit(train_images_pca_aug, train_labels_aug)\n",
    "\n",
    "# # Best parameters and score\n",
    "# print(\"Best Parameters:\", grid_search_rf.best_params_)\n",
    "# print(\"Best Cross-Validation Accuracy:\", grid_search_rf.best_score_)\n",
    "\n",
    "# #RF images Aug\n",
    "# y_train_pred = grid_search_rf.best_estimator_.predict(train_images_pca_aug)\n",
    "# train_accuracy = accuracy_score(train_labels_aug, y_train_pred)\n",
    "# print(f\"Training Accuracy: {train_accuracy * 100:.2f}%\")\n",
    "\n",
    "# y_test_pred = grid_search_rf.best_estimator_.predict(test_images_pca)\n",
    "# test_accuracy = accuracy_score(test_labels, y_test_pred)\n",
    "# print(f\"Testing Accuracy: {test_accuracy * 100:.2f}%\")"
   ]
  },
  {
   "cell_type": "code",
   "execution_count": null,
   "metadata": {},
   "outputs": [],
   "source": [
    "# #knn images aug\n",
    "# param_grid_knn = {\n",
    "#     'n_neighbors': [1, 3, 5, 10, 20, 50],\n",
    "#     'weights': ['uniform', 'distance'],\n",
    "#     'metric': ['euclidean', 'manhattan', 'minkowski']\n",
    "# }\n",
    "# knn =KNeighborsClassifier()\n",
    "# # Perform Grid Search\n",
    "# grid_search_knn = GridSearchCV(estimator=knn, param_grid=param_grid_knn, cv=5, verbose=1, n_jobs=-1)\n",
    "# grid_search_knn.fit(train_images_pca_aug, train_labels_aug)\n",
    "\n",
    "# # Best parameters and score\n",
    "# print(\"Best Parameters:\", grid_search_knn.best_params_)\n",
    "# print(\"Best Cross-Validation Accuracy:\", grid_search_knn.best_score_)\n",
    "\n",
    "# # knn images aug\n",
    "# y_train_pred = grid_search_knn.best_estimator_.predict(train_images_pca_aug)\n",
    "# train_accuracy = accuracy_score(train_labels_aug, y_train_pred)\n",
    "# print(f\"Training Accuracy: {train_accuracy * 100:.2f}%\")\n",
    "\n",
    "# y_test_pred = grid_search_knn.best_estimator_.predict(test_images_pca)\n",
    "# test_accuracy = accuracy_score(test_labels, y_test_pred)\n",
    "# print(f\"Testing Accuracy: {test_accuracy * 100:.2f}%\")"
   ]
  },
  {
   "cell_type": "code",
   "execution_count": null,
   "metadata": {},
   "outputs": [],
   "source": [
    "# # nn images aug\n",
    "# param_grid_nn = {\n",
    "#     'hidden_layer_sizes': [(100,80,60,40,20), (100, 50, 25)],  # Hidden layer sizes\n",
    "#     'activation': ['relu'],  # Activation functions\n",
    "#     'solver': ['adam'],  # Optimization methods\n",
    "#     'alpha': [0.0001, 0.001, 0.01],\n",
    "#     'early_stopping': [True]\n",
    "# }\n",
    "\n",
    "# nn = MLPClassifier()\n",
    "# # Perform Grid Search\n",
    "# grid_search_nn = GridSearchCV(estimator=nn, param_grid=param_grid_nn, cv=5, verbose=1, n_jobs=-1)\n",
    "# grid_search_nn.fit(train_images_pca_aug, train_labels_aug)\n",
    "\n",
    "# # Best parameters and score\n",
    "# print(\"Best Parameters:\", grid_search_nn.best_params_)\n",
    "# print(\"Best Cross-Validation Accuracy:\", grid_search_nn.best_score_)\n",
    "\n",
    "# # nn images aug\n",
    "\n",
    "# y_train_pred = grid_search_nn.best_estimator_.predict(train_images_pca_aug)\n",
    "# train_accuracy = accuracy_score(train_labels_aug, y_train_pred)\n",
    "# print(f\"Training Accuracy: {train_accuracy * 100:.2f}%\")\n",
    "\n",
    "# y_test_pred = grid_search_nn.best_estimator_.predict(test_images_pca)\n",
    "# test_accuracy = accuracy_score(test_labels, y_test_pred)\n",
    "# print(f\"Testing Accuracy: {test_accuracy * 100:.2f}%\")"
   ]
  },
  {
   "cell_type": "code",
   "execution_count": null,
   "metadata": {},
   "outputs": [],
   "source": [
    "#Image only PCA\n",
    "\n",
    "#Standardise\n",
    "scaler = StandardScaler()\n",
    "train_images_scaled_aug = scaler.fit_transform(train_images_aug)\n",
    "test_images_scaled = scaler.transform(test_images)\n",
    "#PCA\n",
    "pca = PCA(n_components=100)\n",
    "train_images_pca_aug = pca.fit_transform(train_images_scaled_aug)\n",
    "test_images_pca = pca.transform(test_images_scaled)"
   ]
  },
  {
   "cell_type": "code",
   "execution_count": null,
   "metadata": {},
   "outputs": [],
   "source": [
    "# # Select a random index\n",
    "# no_images = random.randint(0, augmented_dataset_sharpness.shape[0] - 1)  # Random index within range\n",
    "\n",
    "# # Split the images into two parts\n",
    "# images1 = augmented_dataset_sharpness[:, :5828 // 2]  # First half of the images\n",
    "# images2 = augmented_dataset_sharpness[:, 5828 // 2:]  # Second half of the images\n",
    "\n",
    "# # Reshape the selected images for visualization\n",
    "# image1_reshaped = images1[no_images].reshape(62, 47)  # Reshape to (62, 47)\n",
    "# image2_reshaped = images2[no_images].reshape(62, 47)  # Reshape to (62, 47)\n",
    "\n",
    "# # Get the label for the selected pair\n",
    "# image_label = augmented_labels_sharpness[no_images]\n",
    "\n",
    "# # Interpret the label\n",
    "# label_text = \"Same\" if image_label == 1 else \"Different\"\n",
    "\n",
    "# # Plot the images with the label\n",
    "# plt.figure(figsize=(10, 5))\n",
    "\n",
    "# # Image 1\n",
    "# plt.subplot(1, 2, 1)\n",
    "# plt.imshow(image1_reshaped, cmap='gray')\n",
    "# plt.title(\"Image 1\")\n",
    "# plt.axis(\"off\")\n",
    "\n",
    "# # Image 2\n",
    "# plt.subplot(1, 2, 2)\n",
    "# plt.imshow(image2_reshaped, cmap='gray')\n",
    "# plt.title(\"Image 2\")\n",
    "# plt.axis(\"off\")\n",
    "\n",
    "# # Add a super title for the class\n",
    "# plt.suptitle(f\"Class: {label_text}\", fontsize=14, fontweight='bold')\n",
    "# plt.show()"
   ]
  },
  {
   "cell_type": "code",
   "execution_count": null,
   "metadata": {},
   "outputs": [],
   "source": [
    "#SVM pipeline Augmented and Features Engineered Train Val\n",
    "# Define the parameter grid\n",
    "param_grid_svm = {\n",
    "        'kernel': ['rbf'],\n",
    "        'C': [0.01, 0.1, 1, 10, 100, 1000],\n",
    "        'gamma': [0.001, 0.01, 0.1, 1],\n",
    "    }\n",
    "svm = SVC(random_state=1)\n",
    "# Perform Grid Search\n",
    "grid_search_svm = GridSearchCV(estimator=svm, param_grid=param_grid_svm, cv=5, verbose=1, n_jobs=-1)\n",
    "grid_search_svm.fit(X_train_pca, y_train)\n",
    "\n",
    "# Best parameters and score\n",
    "print(\"Best Parameters:\", grid_search_svm.best_params_)\n",
    "\n",
    "y_train_pred = grid_search_svm.best_estimator_.predict(X_train_pca)\n",
    "train_accuracy = accuracy_score(y_train, y_train_pred)\n",
    "print(f\"Training Accuracy: {train_accuracy * 100:.2f}%\")\n",
    "\n",
    "y_val_pred = grid_search_svm.best_estimator_.predict(X_val_pca)\n",
    "val_accuracy = accuracy_score(y_val, y_val_pred)\n",
    "print(f\"Validation Accuracy: {val_accuracy * 100:.2f}%\")\n",
    "\n",
    "y_test_pred = grid_search_svm.best_estimator_.predict(test_features_pca)\n",
    "test_accuracy = accuracy_score(test_labels, y_test_pred)\n",
    "print(f\"Testing Accuracy: {test_accuracy * 100:.2f}%\")"
   ]
  },
  {
   "cell_type": "code",
   "execution_count": null,
   "metadata": {},
   "outputs": [],
   "source": [
    "# Random Forest pipeline Aug+features\n",
    "\n",
    "param_grid_rf = {\n",
    "    'n_estimators': [100, 200],\n",
    "    'max_depth': [4],\n",
    "    'min_samples_split': [10, 15],\n",
    "    'min_samples_leaf': [10, 15]\n",
    "}\n",
    "rf = RandomForestClassifier(random_state=1)\n",
    "# Perform Grid Search\n",
    "grid_search_rf = GridSearchCV(estimator=rf, param_grid=param_grid_rf, cv=5, verbose=1, n_jobs=-1)\n",
    "grid_search_rf.fit(X_train_pca, y_train)\n",
    "\n",
    "# Best parameters and score\n",
    "print(\"Best Parameters:\", grid_search_rf.best_params_)\n",
    "print(\"Best Cross-Validation Accuracy:\", grid_search_rf.best_score_)\n",
    "\n",
    "#RF Aug+Features\n",
    "y_train_pred = grid_search_rf.best_estimator_.predict(X_train_pca)\n",
    "train_accuracy = accuracy_score(y_train, y_train_pred)\n",
    "print(f\"Training Accuracy: {train_accuracy * 100:.2f}%\")\n",
    "\n",
    "y_val_pred = grid_search_rf.best_estimator_.predict(X_val_pca)\n",
    "val_accuracy = accuracy_score(y_val, y_val_pred)\n",
    "print(f\"Validation Accuracy: {val_accuracy * 100:.2f}%\")\n",
    "\n",
    "y_test_pred = grid_search_rf.best_estimator_.predict(test_features_pca)\n",
    "test_accuracy = accuracy_score(test_labels, y_test_pred)\n",
    "print(f\"Testing Accuracy: {test_accuracy * 100:.2f}%\")"
   ]
  },
  {
   "cell_type": "code",
   "execution_count": null,
   "metadata": {},
   "outputs": [],
   "source": [
    "# Define the parameter grid for Gradient Boosting\n",
    "param_grid_gb = {\n",
    "    'n_estimators': [100, 200],      # Number of boosting stages\n",
    "    'learning_rate': [0.01, 0.1],  # Learning rate\n",
    "    'max_depth': [4],            # Maximum depth of individual trees\n",
    "    'min_samples_split': [10, 15],  # Minimum samples to split a node\n",
    "    'min_samples_leaf': [10, 15]    # Minimum samples in a leaf node\n",
    "}\n",
    "\n",
    "# Initialize Gradient Boosting classifier\n",
    "gb = GradientBoostingClassifier(random_state=1)\n",
    "\n",
    "# Perform Grid Search with 5-fold cross-validation\n",
    "grid_search_gb = GridSearchCV(estimator=gb, param_grid=param_grid_gb, cv=5, verbose=3, n_jobs=-1)\n",
    "grid_search_gb.fit(X_train_pca, y_train)\n",
    "\n",
    "# Best parameters and cross-validation score\n",
    "print(\"Best Parameters:\", grid_search_gb.best_params_)\n",
    "print(\"Best Cross-Validation Accuracy:\", grid_search_gb.best_score_)\n",
    "\n",
    "# Evaluate on Training Data\n",
    "y_train_pred = grid_search_gb.best_estimator_.predict(X_train_pca)\n",
    "train_accuracy = accuracy_score(y_train, y_train_pred)\n",
    "print(f\"Training Accuracy: {train_accuracy * 100:.2f}%\")\n",
    "\n",
    "# Evaluate on Validation Data\n",
    "y_val_pred = grid_search_gb.best_estimator_.predict(X_val_pca)\n",
    "val_accuracy = accuracy_score(y_val, y_val_pred)\n",
    "print(f\"Validation Accuracy: {val_accuracy * 100:.2f}%\")\n",
    "\n",
    "# Evaluate on Test Data\n",
    "y_test_pred = grid_search_gb.best_estimator_.predict(test_features_pca)\n",
    "test_accuracy = accuracy_score(test_labels, y_test_pred)\n",
    "print(f\"Testing Accuracy: {test_accuracy * 100:.2f}%\")"
   ]
  },
  {
   "cell_type": "code",
   "execution_count": null,
   "metadata": {},
   "outputs": [],
   "source": [
    "param_grid_knn = {\n",
    "    'n_neighbors': [1, 3, 5, 10, 20, 50],\n",
    "    'weights': ['uniform', 'distance'],\n",
    "    'metric': ['euclidean', 'manhattan', 'minkowski']\n",
    "}\n",
    "knn =KNeighborsClassifier()\n",
    "# Perform Grid Search\n",
    "grid_search_knn = GridSearchCV(estimator=knn, param_grid=param_grid_knn, cv=5, verbose=1, n_jobs=-1)\n",
    "grid_search_knn.fit(X_train_pca, y_train)\n",
    "\n",
    "# Best parameters and score\n",
    "print(\"Best Parameters:\", grid_search_knn.best_params_)\n",
    "print(\"Best Cross-Validation Accuracy:\", grid_search_knn.best_score_)\n",
    "\n",
    "#RF Aug+Features\n",
    "y_train_pred = grid_search_knn.best_estimator_.predict(X_train_pca)\n",
    "train_accuracy = accuracy_score(y_train, y_train_pred)\n",
    "print(f\"Training Accuracy: {train_accuracy * 100:.2f}%\")\n",
    "\n",
    "y_val_pred = grid_search_knn.best_estimator_.predict(X_val_pca)\n",
    "val_accuracy = accuracy_score(y_val, y_val_pred)\n",
    "print(f\"Validation Accuracy: {val_accuracy * 100:.2f}%\")\n",
    "\n",
    "y_test_pred = grid_search_knn.best_estimator_.predict(test_features_pca)\n",
    "test_accuracy = accuracy_score(test_labels, y_test_pred)\n",
    "print(f\"Testing Accuracy: {test_accuracy * 100:.2f}%\")"
   ]
  },
  {
   "cell_type": "code",
   "execution_count": null,
   "metadata": {},
   "outputs": [],
   "source": [
    "# nn aug+features\n",
    "\n",
    "param_grid_nn = {\n",
    "    'hidden_layer_sizes': [(60), (120, 50, 20), (50, 25), (50,), (25,), (30,)],  # Hidden layer sizes\n",
    "    'activation': ['relu'],  # Activation functions\n",
    "    'solver': ['adam'],  # Optimization methods\n",
    "    'alpha': [0.0001, 0.001, 0.01],\n",
    "    'early_stopping': [True]\n",
    "}\n",
    "\n",
    "nn = MLPClassifier()\n",
    "# Perform Grid Search\n",
    "grid_search_nn = GridSearchCV(estimator=nn, param_grid=param_grid_nn, cv=5, verbose=1, n_jobs=-1)\n",
    "grid_search_nn.fit(train_features_pca_aug, train_labels_aug)\n",
    "\n",
    "# Best parameters and score\n",
    "print(\"Best Parameters:\", grid_search_nn.best_params_)\n",
    "print(\"Best Cross-Validation Accuracy:\", grid_search_nn.best_score_)\n",
    "\n",
    "#RF Aug+Features\n",
    "y_train_pred = grid_search_nn.best_estimator_.predict(X_train_pca)\n",
    "train_accuracy = accuracy_score(y_train, y_train_pred)\n",
    "print(f\"Training Accuracy: {train_accuracy * 100:.2f}%\")\n",
    "\n",
    "y_val_pred = grid_search_nn.best_estimator_.predict(X_val_pca)\n",
    "val_accuracy = accuracy_score(y_val, y_val_pred)\n",
    "print(f\"Validation Accuracy: {val_accuracy * 100:.2f}%\")\n",
    "\n",
    "y_test_pred = grid_search_nn.best_estimator_.predict(test_features_pca)\n",
    "test_accuracy = accuracy_score(test_labels, y_test_pred)\n",
    "print(f\"Testing Accuracy: {test_accuracy * 100:.2f}%\")"
   ]
  },
  {
   "cell_type": "code",
   "execution_count": null,
   "metadata": {},
   "outputs": [],
   "source": [
    "# nn aug+features\n",
    "\n",
    "param_grid_nn = {\n",
    "    'hidden_layer_sizes': [(40), (120, 50, 20), (50, 25), (50,), (25,), (30,)],  # Hidden layer sizes\n",
    "    'activation': ['relu'],  # Activation functions\n",
    "    'solver': ['adam'],  # Optimization methods\n",
    "    'alpha': [0.0001, 0.001, 0.01],\n",
    "    'early_stopping': [True]\n",
    "}\n",
    "\n",
    "nn = MLPClassifier()\n",
    "# Perform Grid Search\n",
    "grid_search_nn = GridSearchCV(estimator=nn, param_grid=param_grid_nn, cv=5, verbose=1, n_jobs=-1)\n",
    "grid_search_nn.fit(train_features_pca_aug, train_labels_aug)\n",
    "\n",
    "# Best parameters and score\n",
    "print(\"Best Parameters:\", grid_search_nn.best_params_)\n",
    "print(\"Best Cross-Validation Accuracy:\", grid_search_nn.best_score_)\n",
    "\n",
    "# nn aug + features\n",
    "y_train_pred = grid_search_nn.best_estimator_.predict(train_features_pca_aug)\n",
    "train_accuracy = accuracy_score(train_labels_aug, y_train_pred)\n",
    "print(f\"Training Accuracy: {train_accuracy * 100:.2f}%\")\n",
    "\n",
    "y_test_pred = grid_search_nn.best_estimator_.predict(test_features_pca)\n",
    "test_accuracy = accuracy_score(test_labels, y_test_pred)\n",
    "print(f\"Testing Accuracy: {test_accuracy * 100:.2f}%\")"
   ]
  },
  {
   "cell_type": "code",
   "execution_count": null,
   "metadata": {},
   "outputs": [],
   "source": [
    "#knn aug + features\n",
    "param_grid_knn = {\n",
    "    'n_neighbors': [1, 3, 5, 10, 20, 50],\n",
    "    'weights': ['uniform', 'distance'],\n",
    "    'metric': ['euclidean', 'manhattan', 'minkowski']\n",
    "}\n",
    "knn =KNeighborsClassifier()\n",
    "# Perform Grid Search\n",
    "grid_search_knn = GridSearchCV(estimator=knn, param_grid=param_grid_knn, cv=5, verbose=1, n_jobs=-1)\n",
    "grid_search_knn.fit(train_features_pca_aug, train_labels_aug)\n",
    "\n",
    "# Best parameters and score\n",
    "print(\"Best Parameters:\", grid_search_knn.best_params_)\n",
    "print(\"Best Cross-Validation Accuracy:\", grid_search_knn.best_score_)\n",
    "\n",
    "#knn aug+features\n",
    "y_train_pred = grid_search_knn.best_estimator_.predict(train_features_pca_aug)\n",
    "train_accuracy = accuracy_score(train_labels_aug, y_train_pred)\n",
    "print(f\"Training Accuracy: {train_accuracy * 100:.2f}%\")\n",
    "\n",
    "y_test_pred = grid_search_knn.best_estimator_.predict(test_features_pca)\n",
    "test_accuracy = accuracy_score(test_labels, y_test_pred)\n",
    "print(f\"Testing Accuracy: {test_accuracy * 100:.2f}%\")"
   ]
  },
  {
   "cell_type": "code",
   "execution_count": null,
   "metadata": {},
   "outputs": [],
   "source": [
    "# Define the parameter grid for Gradient Boosting\n",
    "param_grid_gb = {\n",
    "    'n_estimators': [100,200],      # Number of boosting stages\n",
    "    'learning_rate': [0.01],  # Learning rate\n",
    "    'max_depth': [4],            # Maximum depth of individual trees\n",
    "    'min_samples_split': [15, 20],  # Minimum samples to split a node\n",
    "    'min_samples_leaf': [15, 20]    # Minimum samples in a leaf node\n",
    "}\n",
    "\n",
    "# Initialize Gradient Boosting classifier\n",
    "gb = GradientBoostingClassifier(random_state=1)\n",
    "\n",
    "# Perform Grid Search with 5-fold cross-validation\n",
    "grid_search_gb = GridSearchCV(estimator=gb, param_grid=param_grid_gb, cv=5, verbose=1, n_jobs=-1)\n",
    "grid_search_gb.fit(train_features_pca_aug, train_labels_aug)\n",
    "\n",
    "# Best parameters and cross-validation score\n",
    "print(\"Best Parameters:\", grid_search_gb.best_params_)\n",
    "print(\"Best Cross-Validation Accuracy:\", grid_search_gb.best_score_)\n",
    "\n",
    "# Evaluate on Training Data\n",
    "y_train_pred = grid_search_gb.best_estimator_.predict(train_features_pca_aug)\n",
    "train_accuracy = accuracy_score(train_labels_aug, y_train_pred)\n",
    "print(f\"Training Accuracy: {train_accuracy * 100:.2f}%\")\n",
    "\n",
    "# Evaluate on Test Data\n",
    "y_test_pred = grid_search_gb.best_estimator_.predict(test_features_pca)\n",
    "test_accuracy = accuracy_score(test_labels, y_test_pred)\n",
    "print(f\"Testing Accuracy: {test_accuracy * 100:.2f}%\")"
   ]
  }
 ],
 "metadata": {
  "kernelspec": {
   "display_name": "com6018",
   "language": "python",
   "name": "python3"
  },
  "language_info": {
   "codemirror_mode": {
    "name": "ipython",
    "version": 3
   },
   "file_extension": ".py",
   "mimetype": "text/x-python",
   "name": "python",
   "nbconvert_exporter": "python",
   "pygments_lexer": "ipython3",
   "version": "3.12.8"
  }
 },
 "nbformat": 4,
 "nbformat_minor": 2
}
